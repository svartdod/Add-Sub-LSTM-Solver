{
  "nbformat": 4,
  "nbformat_minor": 0,
  "metadata": {
    "colab": {
      "name": "LSTM_TEST.ipynb",
      "provenance": [],
      "collapsed_sections": []
    },
    "kernelspec": {
      "name": "python3",
      "display_name": "Python 3"
    },
    "language_info": {
      "name": "python"
    }
  },
  "cells": [
    {
      "cell_type": "code",
      "metadata": {
        "id": "0ikI7xrRuMtS"
      },
      "source": [
        "#Deep Learning LSTM TEST PART \n",
        "#HARROUZ MOUAD Faculty of Science and Technology MASTER2 ISICG 20208044\n",
        "#Biyuzan  HAMZA Faculty of Science and Technology Master2 ISICG 20187435\n",
        "\n",
        "from random import seed\n",
        "from random import randint\n",
        "from numpy import array\n",
        "from math import ceil\n",
        "from math import log10\n",
        "from numpy import argmax\n",
        "from keras.models import Sequential\n",
        "from keras.layers import Dense\n",
        "from keras.layers import LSTM\n",
        "from keras.layers import TimeDistributed\n",
        "from keras.layers import RepeatVector\n",
        "import tensorflow"
      ],
      "execution_count": 1,
      "outputs": []
    },
    {
      "cell_type": "code",
      "metadata": {
        "id": "J9C1JlzAuRaO"
      },
      "source": [
        "#Global Variables \n",
        "Equations = []"
      ],
      "execution_count": 2,
      "outputs": []
    },
    {
      "cell_type": "code",
      "metadata": {
        "id": "kqmUvASIuTqm"
      },
      "source": [
        "# generate lists of random integers and their sum\n",
        "def random_sum_pairs(n_examples, n_numbers, largest):\n",
        "    X, y = list(), list()\n",
        "    for i in range(n_examples):\n",
        "        in_pattern = [randint(1, largest) for _ in range(n_numbers)]\n",
        "        out_pattern = sum(in_pattern)\n",
        "        X.append(in_pattern)\n",
        "        y.append(out_pattern)\n",
        "    return X, y"
      ],
      "execution_count": 3,
      "outputs": []
    },
    {
      "cell_type": "code",
      "metadata": {
        "id": "3zs1yXQ2uVmO"
      },
      "source": [
        "# generate lists of random integers and their substruction\n",
        "def random_sub_pairs(n_examples, n_numbers, largest):\n",
        "    X, y = list(), list()\n",
        "    for i in range(n_examples):\n",
        "        in_pattern = [randint(1, largest) for _ in range(n_numbers)]\n",
        "        out_pattern = in_pattern[0]\n",
        "        for i in range(1,len(in_pattern)):\n",
        "          out_pattern=out_pattern-in_pattern[i]\n",
        "        X.append(in_pattern)\n",
        "        y.append(out_pattern)\n",
        "    return X, y"
      ],
      "execution_count": 4,
      "outputs": []
    },
    {
      "cell_type": "code",
      "metadata": {
        "id": "P2CyqIs1uZU1"
      },
      "source": [
        "# convert data to strings\n",
        "def to_string(X, y,X1, n_numbers, largest):\n",
        "    max_length = n_numbers * ceil(log10(largest + 1)) + n_numbers - 1\n",
        "    Xstr = list()\n",
        "    for pattern in X:\n",
        "        strp = '+'.join([str(n) for n in pattern])\n",
        "        strp = ''.join([' ' for _ in range(max_length - len(strp))]) + strp\n",
        "        Xstr.append(strp)\n",
        "    for pattern in X1:\n",
        "        strp = '-'.join([str(n) for n in pattern])\n",
        "        strp = ''.join([' ' for _ in range(max_length - len(strp))]) + strp\n",
        "        Xstr.append(strp)\n",
        "\n",
        "\n",
        "    max_length = ceil(log10(n_numbers * (largest + 1)))\n",
        "    ystr = list()\n",
        "    for pattern in y:\n",
        "        strp = str(pattern)\n",
        "        strp = ''.join([' ' for _ in range(max_length - len(strp))]) + strp\n",
        "        ystr.append(strp)\n",
        "    \n",
        "    return Xstr, ystr"
      ],
      "execution_count": 5,
      "outputs": []
    },
    {
      "cell_type": "code",
      "metadata": {
        "id": "bzFvJPXWubDe"
      },
      "source": [
        "# integer encode strings\n",
        "def integer_encode(X, y, alphabet):\n",
        "    char_to_int = dict((c, i) for i, c in enumerate(alphabet))\n",
        "    Xenc = list()\n",
        "    for pattern in X:\n",
        "        integer_encoded = [char_to_int[char] for char in pattern]\n",
        "        Xenc.append(integer_encoded)\n",
        "    yenc = list()\n",
        "    for pattern in y:\n",
        "        integer_encoded = [char_to_int[char] for char in pattern]\n",
        "        yenc.append(integer_encoded)\n",
        "    return Xenc, yenc"
      ],
      "execution_count": 6,
      "outputs": []
    },
    {
      "cell_type": "code",
      "metadata": {
        "id": "9NIJQB-Duc0-"
      },
      "source": [
        "def one_hot_encode(X, y, max_int):\n",
        "    Xenc = list()\n",
        "    for seq in X:\n",
        "        pattern = list()\n",
        "        for index in seq:\n",
        "            vector = [0 for _ in range(max_int)]\n",
        "            vector[index] = 1\n",
        "            pattern.append(vector)\n",
        "        Xenc.append(pattern)\n",
        "    yenc = list()\n",
        "    for seq in y:\n",
        "        pattern = list()\n",
        "        for index in seq:\n",
        "            vector = [0 for _ in range(max_int)]\n",
        "            vector[index] = 1\n",
        "            pattern.append(vector)\n",
        "        yenc.append(pattern)\n",
        "    return Xenc, yenc"
      ],
      "execution_count": 7,
      "outputs": []
    },
    {
      "cell_type": "code",
      "metadata": {
        "id": "6FyWTqHbufCN"
      },
      "source": [
        "# generate an encoded dataset\n",
        "def generate_data(n_samples,n_samples_substruction, n_numbers, largest, alphabet):\n",
        "    # generate pairs\n",
        "    global Equations \n",
        "    \n",
        "    X, y = random_sum_pairs(n_samples, n_numbers, largest)\n",
        "    X1,y1 = random_sub_pairs(n_samples_substruction, n_numbers, largest)\n",
        "   \n",
        "    # convert to strings\n",
        "    X, y = to_string(X, y+y1,X1, n_numbers, largest)\n",
        "    Equations=[X[i] for i in range(len(X))] \n",
        "    # integer encode\n",
        "    X, y = integer_encode(X, y, alphabet)\n",
        "   \n",
        "    # one hot encode\n",
        "    X, y = one_hot_encode(X, y, len(alphabet))\n",
        " \n",
        "    # return as numpy arrays\n",
        "    X, y = array(X), array(y)\n",
        "    return X, y"
      ],
      "execution_count": 8,
      "outputs": []
    },
    {
      "cell_type": "code",
      "metadata": {
        "id": "4TzwlEysuhKk"
      },
      "source": [
        "# invert encoding\n",
        "def invert(seq, alphabet):\n",
        "    int_to_char = dict((i, c) for i, c in enumerate(alphabet))\n",
        "    strings = list()\n",
        "    for pattern in seq:\n",
        "        string = int_to_char[argmax(pattern)]\n",
        "        strings.append(string)\n",
        "    return ''.join(strings)\n"
      ],
      "execution_count": 9,
      "outputs": []
    },
    {
      "cell_type": "code",
      "metadata": {
        "colab": {
          "base_uri": "https://localhost:8080/"
        },
        "id": "SAIRrqwIulle",
        "outputId": "f7720202-e93c-45c2-fde9-e7348c9d3982"
      },
      "source": [
        "import re\n",
        "\n",
        "model_name = 'OutputData/SUB_ADD1637408951.4818375.h5'\n",
        "print(\"===== Loading Model ====\")\n",
        "\n",
        "model = tensorflow.keras.models.load_model(model_name)\n",
        "print(\"===== Model Loaded ====\")"
      ],
      "execution_count": 10,
      "outputs": [
        {
          "output_type": "stream",
          "name": "stdout",
          "text": [
            "===== Loading Model ====\n",
            "===== Model Loaded ====\n"
          ]
        }
      ]
    },
    {
      "cell_type": "code",
      "metadata": {
        "id": "a918tJSuuoWG"
      },
      "source": [
        "#To string for element \n",
        "def to_string_test(X,X1, n_numbers, largest):\n",
        "    max_length = n_numbers * ceil(log10(largest + 1)) + n_numbers - 1\n",
        "    Xstr = list()\n",
        "    for pattern in X:\n",
        "        strp = '+'.join([str(n) for n in pattern])\n",
        "        strp = ''.join([' ' for _ in range(max_length - len(strp))]) + strp\n",
        "        Xstr.append(strp)\n",
        "    for pattern in X1:\n",
        "        strp = '-'.join([str(n) for n in pattern])\n",
        "        strp = ''.join([' ' for _ in range(max_length - len(strp))]) + strp\n",
        "        Xstr.append(strp)\n",
        "    return Xstr"
      ],
      "execution_count": 11,
      "outputs": []
    },
    {
      "cell_type": "code",
      "metadata": {
        "colab": {
          "base_uri": "https://localhost:8080/"
        },
        "id": "qH40ozKmup7Q",
        "outputId": "8277e24f-0429-40fe-f204-1a27719ac797"
      },
      "source": [
        "print(\"===== Testing some Random values  ====\")\n",
        "n_numbers = 2\n",
        "largest = 100\n",
        "alphabet = ['0', '1', '2', '3', '4', '5', '6', '7', '8', '9', '-', ' ','+']\n",
        "size=5\n",
        "size_substraction=5\n",
        "n_batch = 10\n",
        "X, y = generate_data(size,size_substraction, n_numbers, largest, alphabet)\n",
        "result = model.predict(X, batch_size=n_batch, verbose=0)\n",
        "# calculate error\n",
        "expected = [invert(x, alphabet) for x in y]\n",
        "predicted = [invert(x, alphabet) for x in result]\n",
        "# show some examples\n",
        "for i in range(size+size_substraction):\n",
        "    print('Equation : %s ,Expected=%s, Predicted=%s' % (Equations[i],expected[i], predicted[i]))"
      ],
      "execution_count": 14,
      "outputs": [
        {
          "output_type": "stream",
          "name": "stdout",
          "text": [
            "===== Testing some Random values  ====\n",
            "Equation :   55+46 ,Expected=101, Predicted=101\n",
            "Equation :   79+40 ,Expected=119, Predicted=119\n",
            "Equation :   52+28 ,Expected= 80, Predicted= 80\n",
            "Equation :   26+71 ,Expected= 97, Predicted= 97\n",
            "Equation :   41+11 ,Expected= 52, Predicted= 52\n",
            "Equation :   43-45 ,Expected= -2, Predicted= -2\n",
            "Equation :   20-11 ,Expected=  9, Predicted=  9\n",
            "Equation :   32-43 ,Expected=-11, Predicted=-11\n",
            "Equation :  100-24 ,Expected= 76, Predicted= 76\n",
            "Equation :    3-57 ,Expected=-54, Predicted=-54\n"
          ]
        }
      ]
    },
    {
      "cell_type": "code",
      "metadata": {
        "colab": {
          "base_uri": "https://localhost:8080/"
        },
        "id": "Q7oCAzijutcV",
        "outputId": "74776542-4927-4605-fd6f-5e58cfc7e9f1"
      },
      "source": [
        "#User tests\n",
        "non_correct=True\n",
        "#expression = \"30-15-7+40-11-9-4+33-12+6\" \n",
        "expression=input('Enter your equestion , you can use only number or + and - : ')\n",
        "\n",
        "\n",
        "while non_correct :\n",
        "\n",
        "  regexp = re.compile(r'[^+\\-/^0-9\\s]')\n",
        "\n",
        "  if len(regexp.findall(expression)):\n",
        "      expression=input('re-Enter your equestion , you can use only number or + and - : ')\n",
        "  else:\n",
        "      non_correct=False\n",
        "\n",
        "print(\"Equation : \", expression)\n",
        "items=expression.replace(\" \",\"\")\n",
        "number_or_symbol = re.compile('(\\d+|[^ 0-9])')\n",
        "item=re.findall(number_or_symbol, items)\n",
        "\n",
        "i=0\n",
        "while(i<len(item)-2):\n",
        "\n",
        "  if(\"+\" in str(item[1])):\n",
        "    X=[[int(item[0]),int(item[2])]]\n",
        "    X=to_string_test(X,[], n_numbers, largest)\n",
        "\n",
        "  else :\n",
        "    X=[[int(item[0]),int(item[2])]]\n",
        "    X=to_string_test([],X, n_numbers, largest)\n",
        "   \n",
        "  X, _ = integer_encode(X,[] , alphabet)\n",
        "  X, _ = one_hot_encode(X, [], len(alphabet))\n",
        "  X = array(X)\n",
        "  result = model.predict(X, batch_size=n_batch, verbose=0)\n",
        "  predicted = [invert(x, alphabet) for x in result]\n",
        "  \n",
        "  new_equation=item[i+3:]\n",
        "  item=predicted+new_equation\n",
        "  i=0\n",
        "\n",
        "print(\"results =  \", item[0])"
      ],
      "execution_count": 19,
      "outputs": [
        {
          "output_type": "stream",
          "name": "stdout",
          "text": [
            "Enter your equestion , you can use only number or + and - : fs\n",
            "re-Enter your equestion , you can use only number or + and - : 30-15-7+40-11-9-4+33-12+6\n",
            "Equation :  30-15-7+40-11-9-4+33-12+6\n",
            "results =    51\n"
          ]
        }
      ]
    }
  ]
}